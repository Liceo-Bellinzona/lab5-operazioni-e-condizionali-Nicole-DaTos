{
 "cells": [
  {
   "cell_type": "markdown",
   "metadata": {},
   "source": [
    "# Paga lorda\n",
    "Scrivere un programma che calcoli e visualizzi la paga lorda di un dipendente a ore. I\n",
    "passaggi da seguire sono i seguenti:\n",
    "1. Ottenere il numero di ore lavorative;\n",
    "2. ottenere retribuzione oraria;\n",
    "3. moltiplicare il numero di ore lavorate per la retribuzione oraria;\n",
    "4. visualizzare il risultato del calcolo eseguito al passaggio 3."
   ]
  },
  {
   "cell_type": "code",
   "execution_count": 12,
   "metadata": {},
   "outputs": [
    {
     "name": "stdout",
     "output_type": "stream",
     "text": [
      "numero di ore lavorative:15\n",
      "retribuzione oraria: 20 franchi all'ora\n",
      "guadagno: 300 franchi\n"
     ]
    }
   ],
   "source": [
    "numero_di_ore_lavorative= int(input(\"inserisci numerodi ore lavorative\"))\n",
    "retribuzione_oraria= int (input (\"inserisci retribuzione oraria\"))\n",
    "print(f\"numero di ore lavorative:{numero_di_ore_lavorative}\")\n",
    "print(f\"retribuzione oraria: {retribuzione_oraria} franchi all'ora\")\n",
    "\n",
    "print(f\"guadagno: {numero_di_ore_lavorative*retribuzione_oraria} franchi\")\n"
   ]
  },
  {
   "cell_type": "markdown",
   "metadata": {},
   "source": [
    "# Calcolo della superficie\n",
    "Un acro di terra corrisponde a circa 4046 metri quadrati. Scrivere un programma che chieda\n",
    "all’utente di inserire la superficie di un terreno in metri quadrati e calcoli quindi il numero\n",
    "di acri di quel terreno."
   ]
  },
  {
   "cell_type": "code",
   "execution_count": 4,
   "metadata": {},
   "outputs": [
    {
     "name": "stdout",
     "output_type": "stream",
     "text": [
      "78758 metri quadrati corrispondono a 19.465645081562037 acri\n"
     ]
    }
   ],
   "source": [
    "superficie_terreno= int(input(\"inserisci il numero della superficie del terreno in metri quadrati\"))\n",
    "print(f\"{superficie_terreno} metri quadrati corrispondono a {superficie_terreno/4046} acri\")"
   ]
  },
  {
   "cell_type": "markdown",
   "metadata": {},
   "source": [
    "# Previsioni delle vendite \n",
    "Un’azienda ha determinato che il suo profitto annuale è tipicamente il 23% del totale delle\n",
    "vendite. \n",
    "Scrivere un programma che chieda all’utente di inserire il totale delle vendite previste e visualizzi quindi il profitto che si terrà da questa somma.\n",
    "\n",
    "*Suggerimento: non esiste il tipo di dato 23%. È necessario utilizzare gli operatori di\n",
    "moltiplicazione e divisione per ottenere la percentuale sul totale delle vendite.*\n"
   ]
  },
  {
   "cell_type": "code",
   "execution_count": 5,
   "metadata": {},
   "outputs": [
    {
     "name": "stdout",
     "output_type": "stream",
     "text": [
      "il tuo profitto annuale è di: 1739.8695\n"
     ]
    }
   ],
   "source": [
    "totale_vendite= float(input(\"inserisci il totale delle vendite\"))\n",
    "print(f\"il tuo profitto annuale è di: {totale_vendite/100*23}\")"
   ]
  },
  {
   "cell_type": "markdown",
   "metadata": {},
   "source": [
    "# IVA \n",
    "Scrivere un programma che chieda all’utente di inserire il costo totale di un acquisto al netto\n",
    "di Iva. \n",
    "\n",
    "Si supponga che l’IVA sia pari all’8%. \n",
    "\n",
    "Il programma deve visualizzare il costo totale\n",
    "dell’acquisto al netto di IVA, l’IVA e il costo totale dell’acquisto (quindi IVA compresa)."
   ]
  },
  {
   "cell_type": "code",
   "execution_count": 2,
   "metadata": {},
   "outputs": [
    {
     "name": "stdout",
     "output_type": "stream",
     "text": [
      "costo totale di un acquisto al netto Iva: 4.0 franchi\n",
      "l'IVA è di 0.32\n",
      "costo totale dell'acquisto 4.32\n"
     ]
    }
   ],
   "source": [
    "costo_totale= float(input(\"inserisci il costo totale di un acquisto al netto di Iva\"))\n",
    "print(f\"costo totale di un acquisto al netto Iva: {costo_totale} franchi\")\n",
    "iva=costo_totale*8/100\n",
    "print(f\"l'IVA è di {iva}\")\n",
    "print(f\"costo totale dell'acquisto {costo_totale+iva}\")\n"
   ]
  },
  {
   "cell_type": "markdown",
   "metadata": {},
   "source": [
    "# esrcizio biscotti "
   ]
  },
  {
   "cell_type": "code",
   "execution_count": 6,
   "metadata": {},
   "outputs": [
    {
     "name": "stdout",
     "output_type": "stream",
     "text": [
      "per fare 48 biscotti servono 100.0 grammi di burro, 275.0 grammi di farina e 150.0 grammi di zucchero\n"
     ]
    }
   ],
   "source": [
    "numero_biscotti= int(input(\"inserisci il numero di biscotti che si vogliono fare\"))\n",
    "grammi_zucchero= 150/48*numero_biscotti\n",
    "grammi_burro= 100/48*numero_biscotti\n",
    "grammi_farina= 275/48*numero_biscotti\n",
    "print(f\"per fare {numero_biscotti} biscotti servono {grammi_burro} grammi di burro, {grammi_farina} grammi di farina e {grammi_zucchero} grammi di zucchero\")"
   ]
  }
 ],
 "metadata": {
  "kernelspec": {
   "display_name": "Python 3 (ipykernel)",
   "language": "python",
   "name": "python3"
  },
  "language_info": {
   "codemirror_mode": {
    "name": "ipython",
    "version": 3
   },
   "file_extension": ".py",
   "mimetype": "text/x-python",
   "name": "python",
   "nbconvert_exporter": "python",
   "pygments_lexer": "ipython3",
   "version": "3.10.13"
  }
 },
 "nbformat": 4,
 "nbformat_minor": 2
}
