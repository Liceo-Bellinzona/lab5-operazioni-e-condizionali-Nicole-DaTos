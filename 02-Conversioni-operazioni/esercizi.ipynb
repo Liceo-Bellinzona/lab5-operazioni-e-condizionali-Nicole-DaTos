{
 "cells": [
  {
   "cell_type": "markdown",
   "metadata": {},
   "source": [
    "# Paga lorda\n",
    "Scrivere un programma che calcoli e visualizzi la paga lorda di un dipendente a ore. I\n",
    "passaggi da seguire sono i seguenti:\n",
    "1. Ottenere il numero di ore lavorative;\n",
    "2. ottenere retribuzione oraria;\n",
    "3. moltiplicare il numero di ore lavorate per la retribuzione oraria;\n",
    "4. visualizzare il risultato del calcolo eseguito al passaggio 3."
   ]
  },
  {
   "cell_type": "code",
   "execution_count": 12,
   "metadata": {},
   "outputs": [
    {
     "name": "stdout",
     "output_type": "stream",
     "text": [
      "numero di ore lavorative:15\n",
      "retribuzione oraria: 20 franchi all'ora\n",
      "guadagno: 300 franchi\n"
     ]
    }
   ],
   "source": [
    "numero_di_ore_lavorative= int(input(\"inserisci numerodi ore lavorative\"))\n",
    "retribuzione_oraria= int (input (\"inserisci retribuzione oraria\"))\n",
    "print(f\"numero di ore lavorative:{numero_di_ore_lavorative}\")\n",
    "print(f\"retribuzione oraria: {retribuzione_oraria} franchi all'ora\")\n",
    "\n",
    "print(f\"guadagno: {numero_di_ore_lavorative*retribuzione_oraria} franchi\")\n"
   ]
  },
  {
   "cell_type": "markdown",
   "metadata": {},
   "source": [
    "# Calcolo della superficie\n",
    "Un acro di terra corrisponde a circa 4046 metri quadrati. Scrivere un programma che chieda\n",
    "all’utente di inserire la superficie di un terreno in metri quadrati e calcoli quindi il numero\n",
    "di acri di quel terreno."
   ]
  },
  {
   "cell_type": "code",
   "execution_count": 18,
   "metadata": {},
   "outputs": [
    {
     "name": "stdout",
     "output_type": "stream",
     "text": [
      "in 478368 metri quadrati ci sono 118.23232822540781 acri\n"
     ]
    }
   ],
   "source": [
    "superficie_terreno= int(input(\"inserisci il numero della superficie del terreno in metri quadrati\"))\n",
    "print(f\"in {superficie_terreno} metri quadrati ci sono {superficie_terreno/4046} acri\")"
   ]
  },
  {
   "cell_type": "markdown",
   "metadata": {},
   "source": [
    "# Previsioni delle vendite \n",
    "Un’azienda ha determinato che il suo profitto annuale è tipicamente il 23% del totale delle\n",
    "vendite. \n",
    "Scrivere un programma che chieda all’utente di inserire il totale delle vendite previste e visualizzi quindi il profitto che si terrà da questa somma.\n",
    "\n",
    "*Suggerimento: non esiste il tipo di dato 23%. È necessario utilizzare gli operatori di\n",
    "moltiplicazione e divisione per ottenere la percentuale sul totale delle vendite.*\n"
   ]
  },
  {
   "cell_type": "code",
   "execution_count": 21,
   "metadata": {},
   "outputs": [
    {
     "name": "stdout",
     "output_type": "stream",
     "text": [
      "il tuo profitto annuale è di: 23.0\n"
     ]
    }
   ],
   "source": [
    "totale_vendite= int(input(\"inserisci il totale delle vendite\"))\n",
    "print(f\"il tuo profitto annuale è di: {totale_vendite/100*23}\")"
   ]
  },
  {
   "cell_type": "markdown",
   "metadata": {},
   "source": [
    "# IVA \n",
    "Scrivere un programma che chieda all’utente di inserire il costo totale di un acquisto al netto\n",
    "di Iva. \n",
    "\n",
    "Si supponga che l’IVA sia pari all’8%. \n",
    "\n",
    "Il programma deve visualizzare il costo totale\n",
    "dell’acquisto al netto di IVA, l’IVA e il costo totale dell’acquisto (quindi IVA compresa)."
   ]
  },
  {
   "cell_type": "code",
   "execution_count": 23,
   "metadata": {},
   "outputs": [
    {
     "name": "stdout",
     "output_type": "stream",
     "text": [
      "costo totale di un acquisto al netto Iva: 20 franchi\n",
      "Iva: 1.6 franchi\n"
     ]
    }
   ],
   "source": [
    "costo_totale= int(input(\"inserisci il costo totale di un acquisto al netto di Iva\"))\n",
    "print(f\"costo totale di un acquisto al netto Iva: {costo_totale} franchi\")\n",
    "print(f\"Iva: {costo_totale/100*8} franchi\")\n"
   ]
  }
 ],
 "metadata": {
  "kernelspec": {
   "display_name": "Python 3 (ipykernel)",
   "language": "python",
   "name": "python3"
  },
  "language_info": {
   "codemirror_mode": {
    "name": "ipython",
    "version": 3
   },
   "file_extension": ".py",
   "mimetype": "text/x-python",
   "name": "python",
   "nbconvert_exporter": "python",
   "pygments_lexer": "ipython3",
   "version": "3.10.13"
  }
 },
 "nbformat": 4,
 "nbformat_minor": 2
}
